{
 "cells": [
  {
   "cell_type": "code",
   "execution_count": 1,
   "id": "d904505a-d839-4784-8885-9a5c15810ec1",
   "metadata": {},
   "outputs": [],
   "source": [
    "# ライブラリ例\n",
    "import numpy as np  # 配列処理に特化したライブラリ\n",
    "import pandas as pd # データ分析に使われるライブラリ（NumPyと親和性が高い）\n",
    "import matplotlib.pyplot as plt # グラフなどを描画するためのライブラリ"
   ]
  },
  {
   "cell_type": "code",
   "execution_count": 7,
   "id": "2aeafa85-4935-4f88-a9f7-fab70df24d73",
   "metadata": {},
   "outputs": [],
   "source": [
    "import scipy # 数学などの科学技術計算に得意なパッケージ\n",
    "# 積分を行う例\n",
    "# scipy.integrate(x)"
   ]
  },
  {
   "cell_type": "code",
   "execution_count": 9,
   "id": "ea7596eb-fdd8-4ce1-ae76-32a9a11d3714",
   "metadata": {},
   "outputs": [],
   "source": [
    "# integrateの前にscipyを書くのが面倒な場合は、formを指定する\n",
    "from scipy import integrate\n",
    "# integrate(x) # 積分を行う"
   ]
  },
  {
   "cell_type": "code",
   "execution_count": 10,
   "id": "c2c6523e-ebcf-4ebe-a623-792965b805e0",
   "metadata": {},
   "outputs": [
    {
     "data": {
      "text/html": [
       "<div>\n",
       "<style scoped>\n",
       "    .dataframe tbody tr th:only-of-type {\n",
       "        vertical-align: middle;\n",
       "    }\n",
       "\n",
       "    .dataframe tbody tr th {\n",
       "        vertical-align: top;\n",
       "    }\n",
       "\n",
       "    .dataframe thead th {\n",
       "        text-align: right;\n",
       "    }\n",
       "</style>\n",
       "<table border=\"1\" class=\"dataframe\">\n",
       "  <thead>\n",
       "    <tr style=\"text-align: right;\">\n",
       "      <th></th>\n",
       "      <th>氏名</th>\n",
       "      <th>数学</th>\n",
       "      <th>英語</th>\n",
       "    </tr>\n",
       "  </thead>\n",
       "  <tbody>\n",
       "    <tr>\n",
       "      <th>0</th>\n",
       "      <td>山田太郎</td>\n",
       "      <td>90</td>\n",
       "      <td>50</td>\n",
       "    </tr>\n",
       "    <tr>\n",
       "      <th>1</th>\n",
       "      <td>鈴木花子</td>\n",
       "      <td>80</td>\n",
       "      <td>70</td>\n",
       "    </tr>\n",
       "    <tr>\n",
       "      <th>2</th>\n",
       "      <td>高橋次郎</td>\n",
       "      <td>75</td>\n",
       "      <td>80</td>\n",
       "    </tr>\n",
       "    <tr>\n",
       "      <th>3</th>\n",
       "      <td>佐藤三郎</td>\n",
       "      <td>88</td>\n",
       "      <td>65</td>\n",
       "    </tr>\n",
       "  </tbody>\n",
       "</table>\n",
       "</div>"
      ],
      "text/plain": [
       "     氏名  数学  英語\n",
       "0  山田太郎  90  50\n",
       "1  鈴木花子  80  70\n",
       "2  高橋次郎  75  80\n",
       "3  佐藤三郎  88  65"
      ]
     },
     "execution_count": 10,
     "metadata": {},
     "output_type": "execute_result"
    }
   ],
   "source": [
    "# 2次元でデータを扱うためにデータフレームを利用する（pandas）\n",
    "data = [\n",
    "    ['山田太郎', 90, 50],\n",
    "    ['鈴木花子', 80, 70],\n",
    "    ['高橋次郎', 75, 80],\n",
    "    ['佐藤三郎', 88, 65]\n",
    "]\n",
    "score = pd.DataFrame(data, columns=['氏名', '数学', '英語'])\n",
    "score"
   ]
  },
  {
   "cell_type": "code",
   "execution_count": 11,
   "id": "bc495efd-b7a2-4b53-91c9-410bdb322605",
   "metadata": {},
   "outputs": [
    {
     "data": {
      "text/plain": [
       "(4, 3)"
      ]
     },
     "execution_count": 11,
     "metadata": {},
     "output_type": "execute_result"
    }
   ],
   "source": [
    "# データフレームのサイズを調べる\n",
    "score.shape"
   ]
  },
  {
   "cell_type": "code",
   "execution_count": 12,
   "id": "c16d7e4b-fa82-449e-b563-d84fa7b95978",
   "metadata": {},
   "outputs": [
    {
     "data": {
      "text/plain": [
       "4"
      ]
     },
     "execution_count": 12,
     "metadata": {},
     "output_type": "execute_result"
    }
   ],
   "source": [
    "len(score) # 行"
   ]
  },
  {
   "cell_type": "code",
   "execution_count": 13,
   "id": "d73089a8-edf7-4b86-85a0-3cf0559f09bf",
   "metadata": {},
   "outputs": [
    {
     "data": {
      "text/plain": [
       "3"
      ]
     },
     "execution_count": 13,
     "metadata": {},
     "output_type": "execute_result"
    }
   ],
   "source": [
    "len(score.columns) # 列"
   ]
  },
  {
   "cell_type": "code",
   "execution_count": null,
   "id": "c9b90816-ef5b-4550-88a3-695fa7bfd497",
   "metadata": {},
   "outputs": [],
   "source": []
  }
 ],
 "metadata": {
  "kernelspec": {
   "display_name": "Python 3 (ipykernel)",
   "language": "python",
   "name": "python3"
  },
  "language_info": {
   "codemirror_mode": {
    "name": "ipython",
    "version": 3
   },
   "file_extension": ".py",
   "mimetype": "text/x-python",
   "name": "python",
   "nbconvert_exporter": "python",
   "pygments_lexer": "ipython3",
   "version": "3.9.7"
  }
 },
 "nbformat": 4,
 "nbformat_minor": 5
}
