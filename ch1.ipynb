{
 "cells": [
  {
   "cell_type": "code",
   "execution_count": 1,
   "id": "0d93dc2d-e290-4add-aa65-57fd436cc456",
   "metadata": {},
   "outputs": [
    {
     "name": "stdout",
     "output_type": "stream",
     "text": [
      "Hello World\n"
     ]
    }
   ],
   "source": [
    "print('Hello World')"
   ]
  },
  {
   "cell_type": "code",
   "execution_count": 2,
   "id": "65970413-e2c9-4a26-92cd-bf0b6463c36f",
   "metadata": {},
   "outputs": [
    {
     "data": {
      "text/plain": [
       "5"
      ]
     },
     "execution_count": 2,
     "metadata": {},
     "output_type": "execute_result"
    }
   ],
   "source": [
    "# 足し算\n",
    "2 + 3"
   ]
  },
  {
   "cell_type": "code",
   "execution_count": 3,
   "id": "253fb9d0-a323-4d1f-a13f-7fdeac78623e",
   "metadata": {},
   "outputs": [
    {
     "data": {
      "text/plain": [
       "3"
      ]
     },
     "execution_count": 3,
     "metadata": {},
     "output_type": "execute_result"
    }
   ],
   "source": [
    "# 引き算\n",
    "5 - 2"
   ]
  },
  {
   "cell_type": "code",
   "execution_count": 4,
   "id": "762765f3-9b63-4107-a4cb-b7b42899931c",
   "metadata": {},
   "outputs": [
    {
     "data": {
      "text/plain": [
       "12"
      ]
     },
     "execution_count": 4,
     "metadata": {},
     "output_type": "execute_result"
    }
   ],
   "source": [
    "# 掛け算\n",
    "3 * 4"
   ]
  },
  {
   "cell_type": "code",
   "execution_count": 5,
   "id": "4c255398-f436-46ad-ae23-684aeb3c408b",
   "metadata": {},
   "outputs": [
    {
     "data": {
      "text/plain": [
       "6"
      ]
     },
     "execution_count": 5,
     "metadata": {},
     "output_type": "execute_result"
    }
   ],
   "source": [
    "# 割り算（答えを整数で返す）\n",
    "13 // 2"
   ]
  },
  {
   "cell_type": "code",
   "execution_count": 6,
   "id": "183f2059-ee61-49ca-a26f-2af5f45db0d3",
   "metadata": {},
   "outputs": [
    {
     "data": {
      "text/plain": [
       "6.5"
      ]
     },
     "execution_count": 6,
     "metadata": {},
     "output_type": "execute_result"
    }
   ],
   "source": [
    "# 割り算（答えを小数で返す）\n",
    "13 / 2"
   ]
  },
  {
   "cell_type": "code",
   "execution_count": 7,
   "id": "74b69a37-8ca4-461b-940f-5fa3cdc3ee49",
   "metadata": {},
   "outputs": [
    {
     "data": {
      "text/plain": [
       "2"
      ]
     },
     "execution_count": 7,
     "metadata": {},
     "output_type": "execute_result"
    }
   ],
   "source": [
    "# 余剰\n",
    "11 % 3"
   ]
  },
  {
   "cell_type": "code",
   "execution_count": 9,
   "id": "0da5ef64-021b-4822-b0f5-e7cb1343e8c7",
   "metadata": {},
   "outputs": [
    {
     "data": {
      "text/plain": [
       "8"
      ]
     },
     "execution_count": 9,
     "metadata": {},
     "output_type": "execute_result"
    }
   ],
   "source": [
    "# 累乗\n",
    "2 ** 3"
   ]
  },
  {
   "cell_type": "code",
   "execution_count": 10,
   "id": "a61b6681-2265-4e2c-8822-67b6ca54f9f6",
   "metadata": {},
   "outputs": [
    {
     "data": {
      "text/plain": [
       "int"
      ]
     },
     "execution_count": 10,
     "metadata": {},
     "output_type": "execute_result"
    }
   ],
   "source": [
    "# データ型とキャスト\n",
    "type(3)"
   ]
  },
  {
   "cell_type": "code",
   "execution_count": 11,
   "id": "18de622d-a6f4-45be-9f27-99d7e1fdb162",
   "metadata": {},
   "outputs": [
    {
     "data": {
      "text/plain": [
       "float"
      ]
     },
     "execution_count": 11,
     "metadata": {},
     "output_type": "execute_result"
    }
   ],
   "source": [
    "type(3.5)"
   ]
  },
  {
   "cell_type": "code",
   "execution_count": 13,
   "id": "8242c34b-2583-46cf-8678-6fb9bd4e5eb2",
   "metadata": {},
   "outputs": [
    {
     "data": {
      "text/plain": [
       "str"
      ]
     },
     "execution_count": 13,
     "metadata": {},
     "output_type": "execute_result"
    }
   ],
   "source": [
    "type('abc')"
   ]
  },
  {
   "cell_type": "code",
   "execution_count": 14,
   "id": "30811e1b-9487-4f0b-83ae-682f81320e33",
   "metadata": {},
   "outputs": [
    {
     "data": {
      "text/plain": [
       "3.0"
      ]
     },
     "execution_count": 14,
     "metadata": {},
     "output_type": "execute_result"
    }
   ],
   "source": [
    "float(3)"
   ]
  },
  {
   "cell_type": "code",
   "execution_count": 15,
   "id": "f5320541-3b76-4a52-a6a3-2159bb73287f",
   "metadata": {},
   "outputs": [
    {
     "data": {
      "text/plain": [
       "3"
      ]
     },
     "execution_count": 15,
     "metadata": {},
     "output_type": "execute_result"
    }
   ],
   "source": [
    "int(3.5)"
   ]
  },
  {
   "cell_type": "code",
   "execution_count": 16,
   "id": "04ddb9bf-9452-45cb-8c71-44fc890f47a5",
   "metadata": {},
   "outputs": [
    {
     "data": {
      "text/plain": [
       "10"
      ]
     },
     "execution_count": 16,
     "metadata": {},
     "output_type": "execute_result"
    }
   ],
   "source": [
    "# リストと配列\n",
    "a = [45, 58, 61, 72, 53, 47, 69, 56, 48, 61]\n",
    "len(a)"
   ]
  },
  {
   "cell_type": "code",
   "execution_count": 20,
   "id": "f396002b-38e9-4319-94e3-003086b9e4c9",
   "metadata": {},
   "outputs": [
    {
     "data": {
      "text/plain": [
       "45"
      ]
     },
     "execution_count": 20,
     "metadata": {},
     "output_type": "execute_result"
    }
   ],
   "source": [
    "a[0] # リストの先頭"
   ]
  },
  {
   "cell_type": "code",
   "execution_count": 21,
   "id": "3e3ccd78-ac2b-4fe8-a8a0-da7295ac4682",
   "metadata": {},
   "outputs": [
    {
     "data": {
      "text/plain": [
       "72"
      ]
     },
     "execution_count": 21,
     "metadata": {},
     "output_type": "execute_result"
    }
   ],
   "source": [
    "a[3] # リストの4番目"
   ]
  },
  {
   "cell_type": "code",
   "execution_count": 22,
   "id": "f677a439-4950-4c96-b5aa-f657ef80a57d",
   "metadata": {},
   "outputs": [
    {
     "data": {
      "text/plain": [
       "61"
      ]
     },
     "execution_count": 22,
     "metadata": {},
     "output_type": "execute_result"
    }
   ],
   "source": [
    "a[-1] # リストの最後"
   ]
  },
  {
   "cell_type": "code",
   "execution_count": 23,
   "id": "21e47668-324f-4544-a24f-9be7b79792b8",
   "metadata": {},
   "outputs": [
    {
     "data": {
      "text/plain": [
       "[58, 61]"
      ]
     },
     "execution_count": 23,
     "metadata": {},
     "output_type": "execute_result"
    }
   ],
   "source": [
    "a[1:3] # 2番目から3番目の要素を取得"
   ]
  },
  {
   "cell_type": "code",
   "execution_count": 24,
   "id": "a79ced75-089b-490b-8039-0c2a4e114cf1",
   "metadata": {},
   "outputs": [
    {
     "data": {
      "text/plain": [
       "[61, 72, 53, 47, 69, 56, 48, 61]"
      ]
     },
     "execution_count": 24,
     "metadata": {},
     "output_type": "execute_result"
    }
   ],
   "source": [
    "a[2:] # 3番目以降の要素を取得"
   ]
  },
  {
   "cell_type": "code",
   "execution_count": 25,
   "id": "fbcec908-6db1-4e58-bc16-f0d2a2922729",
   "metadata": {},
   "outputs": [
    {
     "data": {
      "text/plain": [
       "[45, 58, 61]"
      ]
     },
     "execution_count": 25,
     "metadata": {},
     "output_type": "execute_result"
    }
   ],
   "source": [
    "a[:3] # 3番目までの要素を取得"
   ]
  },
  {
   "cell_type": "code",
   "execution_count": 26,
   "id": "90269370-0c82-46e3-91b0-cf4099bbf825",
   "metadata": {},
   "outputs": [
    {
     "data": {
      "text/plain": [
       "-1"
      ]
     },
     "execution_count": 26,
     "metadata": {},
     "output_type": "execute_result"
    }
   ],
   "source": [
    "# Pythonは異なる型のデータを格納できる\n",
    "data = [1, 'abc', 3.5, -2, True]\n",
    "data[0] + data[3]"
   ]
  },
  {
   "cell_type": "code",
   "execution_count": 27,
   "id": "f9a0efec-b356-44f0-8cef-72fc1fc6021a",
   "metadata": {},
   "outputs": [
    {
     "name": "stdout",
     "output_type": "stream",
     "text": [
      "a is 3\n"
     ]
    }
   ],
   "source": [
    "# 条件分岐\n",
    "a = 3\n",
    "if a == 3:\n",
    "    print('a is 3')\n",
    "else:\n",
    "    print('a is not 3')"
   ]
  },
  {
   "cell_type": "code",
   "execution_count": 28,
   "id": "a7b7a6d7-abb0-4f2b-b84e-c924fb12c797",
   "metadata": {},
   "outputs": [
    {
     "name": "stdout",
     "output_type": "stream",
     "text": [
      "58\n",
      "72\n",
      "56\n",
      "48\n"
     ]
    }
   ],
   "source": [
    "# 繰り返し処理\n",
    "for i in [45, 58, 61, 72, 53, 47, 69, 56, 48, 61]:\n",
    "    if i % 2 == 0:\n",
    "        print(i)"
   ]
  },
  {
   "cell_type": "code",
   "execution_count": 29,
   "id": "445ba870-2cdc-4f74-a82f-9ccd97e519da",
   "metadata": {},
   "outputs": [],
   "source": [
    "# 関数の定義\n",
    "def bmi(height, weight):\n",
    "    result = weight / height / height\n",
    "    return result"
   ]
  },
  {
   "cell_type": "code",
   "execution_count": 30,
   "id": "cd41d89e-1a0f-4e5d-9538-3766871f6a7f",
   "metadata": {},
   "outputs": [
    {
     "data": {
      "text/plain": [
       "21.22000905387053"
      ]
     },
     "execution_count": 30,
     "metadata": {},
     "output_type": "execute_result"
    }
   ],
   "source": [
    "bmi(1.88, 75)"
   ]
  },
  {
   "cell_type": "code",
   "execution_count": null,
   "id": "e7235288-036b-4194-9c4e-530c7aa55db9",
   "metadata": {},
   "outputs": [],
   "source": []
  }
 ],
 "metadata": {
  "kernelspec": {
   "display_name": "Python 3 (ipykernel)",
   "language": "python",
   "name": "python3"
  },
  "language_info": {
   "codemirror_mode": {
    "name": "ipython",
    "version": 3
   },
   "file_extension": ".py",
   "mimetype": "text/x-python",
   "name": "python",
   "nbconvert_exporter": "python",
   "pygments_lexer": "ipython3",
   "version": "3.9.7"
  }
 },
 "nbformat": 4,
 "nbformat_minor": 5
}
