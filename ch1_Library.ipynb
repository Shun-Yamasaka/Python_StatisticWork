{
 "cells": [
  {
   "cell_type": "code",
   "execution_count": 1,
   "id": "d904505a-d839-4784-8885-9a5c15810ec1",
   "metadata": {},
   "outputs": [],
   "source": [
    "# ライブラリ例\n",
    "import numpy as np  # 配列処理に特化したライブラリ\n",
    "import pandas as pd # データ分析に使われるライブラリ（NumPyと親和性が高い）\n",
    "import matplotlib.pyplot as plt # グラフなどを描画するためのライブラリ"
   ]
  },
  {
   "cell_type": "code",
   "execution_count": 7,
   "id": "2aeafa85-4935-4f88-a9f7-fab70df24d73",
   "metadata": {},
   "outputs": [],
   "source": [
    "import scipy # 数学などの科学技術計算に得意なパッケージ\n",
    "# 積分を行う例\n",
    "# scipy.integrate(x)"
   ]
  },
  {
   "cell_type": "code",
   "execution_count": 9,
   "id": "ea7596eb-fdd8-4ce1-ae76-32a9a11d3714",
   "metadata": {},
   "outputs": [],
   "source": [
    "# integrateの前にscipyを書くのが面倒な場合は、formを指定する\n",
    "from scipy import integrate\n",
    "# integrate(x) # 積分を行う"
   ]
  },
  {
   "cell_type": "code",
   "execution_count": 10,
   "id": "c2c6523e-ebcf-4ebe-a623-792965b805e0",
   "metadata": {},
   "outputs": [
    {
     "data": {
      "text/html": [
       "<div>\n",
       "<style scoped>\n",
       "    .dataframe tbody tr th:only-of-type {\n",
       "        vertical-align: middle;\n",
       "    }\n",
       "\n",
       "    .dataframe tbody tr th {\n",
       "        vertical-align: top;\n",
       "    }\n",
       "\n",
       "    .dataframe thead th {\n",
       "        text-align: right;\n",
       "    }\n",
       "</style>\n",
       "<table border=\"1\" class=\"dataframe\">\n",
       "  <thead>\n",
       "    <tr style=\"text-align: right;\">\n",
       "      <th></th>\n",
       "      <th>氏名</th>\n",
       "      <th>数学</th>\n",
       "      <th>英語</th>\n",
       "    </tr>\n",
       "  </thead>\n",
       "  <tbody>\n",
       "    <tr>\n",
       "      <th>0</th>\n",
       "      <td>山田太郎</td>\n",
       "      <td>90</td>\n",
       "      <td>50</td>\n",
       "    </tr>\n",
       "    <tr>\n",
       "      <th>1</th>\n",
       "      <td>鈴木花子</td>\n",
       "      <td>80</td>\n",
       "      <td>70</td>\n",
       "    </tr>\n",
       "    <tr>\n",
       "      <th>2</th>\n",
       "      <td>高橋次郎</td>\n",
       "      <td>75</td>\n",
       "      <td>80</td>\n",
       "    </tr>\n",
       "    <tr>\n",
       "      <th>3</th>\n",
       "      <td>佐藤三郎</td>\n",
       "      <td>88</td>\n",
       "      <td>65</td>\n",
       "    </tr>\n",
       "  </tbody>\n",
       "</table>\n",
       "</div>"
      ],
      "text/plain": [
       "     氏名  数学  英語\n",
       "0  山田太郎  90  50\n",
       "1  鈴木花子  80  70\n",
       "2  高橋次郎  75  80\n",
       "3  佐藤三郎  88  65"
      ]
     },
     "execution_count": 10,
     "metadata": {},
     "output_type": "execute_result"
    }
   ],
   "source": [
    "# 2次元でデータを扱うためにデータフレームを利用する（pandas）\n",
    "data = [\n",
    "    ['山田太郎', 90, 50],\n",
    "    ['鈴木花子', 80, 70],\n",
    "    ['高橋次郎', 75, 80],\n",
    "    ['佐藤三郎', 88, 65]\n",
    "]\n",
    "score = pd.DataFrame(data, columns=['氏名', '数学', '英語'])\n",
    "score"
   ]
  },
  {
   "cell_type": "code",
   "execution_count": 14,
   "id": "bc495efd-b7a2-4b53-91c9-410bdb322605",
   "metadata": {},
   "outputs": [
    {
     "data": {
      "text/plain": [
       "(4, 3)"
      ]
     },
     "execution_count": 14,
     "metadata": {},
     "output_type": "execute_result"
    }
   ],
   "source": [
    "# データフレームのサイズを調べる\n",
    "score.shape"
   ]
  },
  {
   "cell_type": "code",
   "execution_count": 15,
   "id": "c16d7e4b-fa82-449e-b563-d84fa7b95978",
   "metadata": {},
   "outputs": [
    {
     "data": {
      "text/plain": [
       "4"
      ]
     },
     "execution_count": 15,
     "metadata": {},
     "output_type": "execute_result"
    }
   ],
   "source": [
    "len(score) # 行"
   ]
  },
  {
   "cell_type": "code",
   "execution_count": 16,
   "id": "d73089a8-edf7-4b86-85a0-3cf0559f09bf",
   "metadata": {},
   "outputs": [
    {
     "data": {
      "text/plain": [
       "3"
      ]
     },
     "execution_count": 16,
     "metadata": {},
     "output_type": "execute_result"
    }
   ],
   "source": [
    "len(score.columns) # 列"
   ]
  },
  {
   "cell_type": "code",
   "execution_count": 21,
   "id": "c9b90816-ef5b-4550-88a3-695fa7bfd497",
   "metadata": {},
   "outputs": [
    {
     "data": {
      "text/plain": [
       "0    90\n",
       "1    80\n",
       "2    75\n",
       "3    88\n",
       "Name: 数学, dtype: int64"
      ]
     },
     "execution_count": 21,
     "metadata": {},
     "output_type": "execute_result"
    }
   ],
   "source": [
    "# データを取り出す（取り出した値はDataFrameではなく、Seriesという一次元データ構造になる）\n",
    "score['数学']"
   ]
  },
  {
   "cell_type": "code",
   "execution_count": 23,
   "id": "28e7f8ca-5123-4252-8d31-345db94cb0a8",
   "metadata": {},
   "outputs": [
    {
     "data": {
      "text/plain": [
       "0    50\n",
       "1    70\n",
       "2    80\n",
       "3    65\n",
       "Name: 英語, dtype: int64"
      ]
     },
     "execution_count": 23,
     "metadata": {},
     "output_type": "execute_result"
    }
   ],
   "source": [
    "score.英語"
   ]
  },
  {
   "cell_type": "code",
   "execution_count": 24,
   "id": "fca00d7a-9be5-4903-8525-eec95b1ac15f",
   "metadata": {},
   "outputs": [
    {
     "data": {
      "text/html": [
       "<div>\n",
       "<style scoped>\n",
       "    .dataframe tbody tr th:only-of-type {\n",
       "        vertical-align: middle;\n",
       "    }\n",
       "\n",
       "    .dataframe tbody tr th {\n",
       "        vertical-align: top;\n",
       "    }\n",
       "\n",
       "    .dataframe thead th {\n",
       "        text-align: right;\n",
       "    }\n",
       "</style>\n",
       "<table border=\"1\" class=\"dataframe\">\n",
       "  <thead>\n",
       "    <tr style=\"text-align: right;\">\n",
       "      <th></th>\n",
       "      <th>氏名</th>\n",
       "      <th>数学</th>\n",
       "      <th>英語</th>\n",
       "    </tr>\n",
       "  </thead>\n",
       "  <tbody>\n",
       "    <tr>\n",
       "      <th>0</th>\n",
       "      <td>山田太郎</td>\n",
       "      <td>90</td>\n",
       "      <td>50</td>\n",
       "    </tr>\n",
       "    <tr>\n",
       "      <th>3</th>\n",
       "      <td>佐藤三郎</td>\n",
       "      <td>88</td>\n",
       "      <td>65</td>\n",
       "    </tr>\n",
       "  </tbody>\n",
       "</table>\n",
       "</div>"
      ],
      "text/plain": [
       "     氏名  数学  英語\n",
       "0  山田太郎  90  50\n",
       "3  佐藤三郎  88  65"
      ]
     },
     "execution_count": 24,
     "metadata": {},
     "output_type": "execute_result"
    }
   ],
   "source": [
    "# 条件を指定してデータを抽出する（数学の点数が80点より大きい生徒を抽出する）\n",
    "score[score.数学 > 80]"
   ]
  },
  {
   "cell_type": "code",
   "execution_count": 25,
   "id": "1324ad87-fb23-491c-885f-6f12e44ee4a0",
   "metadata": {},
   "outputs": [
    {
     "data": {
      "text/html": [
       "<div>\n",
       "<style scoped>\n",
       "    .dataframe tbody tr th:only-of-type {\n",
       "        vertical-align: middle;\n",
       "    }\n",
       "\n",
       "    .dataframe tbody tr th {\n",
       "        vertical-align: top;\n",
       "    }\n",
       "\n",
       "    .dataframe thead th {\n",
       "        text-align: right;\n",
       "    }\n",
       "</style>\n",
       "<table border=\"1\" class=\"dataframe\">\n",
       "  <thead>\n",
       "    <tr style=\"text-align: right;\">\n",
       "      <th></th>\n",
       "      <th>氏名</th>\n",
       "      <th>数学</th>\n",
       "    </tr>\n",
       "  </thead>\n",
       "  <tbody>\n",
       "    <tr>\n",
       "      <th>0</th>\n",
       "      <td>山田太郎</td>\n",
       "      <td>90</td>\n",
       "    </tr>\n",
       "    <tr>\n",
       "      <th>3</th>\n",
       "      <td>佐藤三郎</td>\n",
       "      <td>88</td>\n",
       "    </tr>\n",
       "  </tbody>\n",
       "</table>\n",
       "</div>"
      ],
      "text/plain": [
       "     氏名  数学\n",
       "0  山田太郎  90\n",
       "3  佐藤三郎  88"
      ]
     },
     "execution_count": 25,
     "metadata": {},
     "output_type": "execute_result"
    }
   ],
   "source": [
    "# 氏名と数学の列だけ抽出したい場合の指定\n",
    "score[score.数学 > 80][['氏名', '数学']]"
   ]
  },
  {
   "cell_type": "code",
   "execution_count": null,
   "id": "4ba3e09a-1b71-455a-bc69-05843497dc26",
   "metadata": {},
   "outputs": [],
   "source": []
  }
 ],
 "metadata": {
  "kernelspec": {
   "display_name": "Python 3 (ipykernel)",
   "language": "python",
   "name": "python3"
  },
  "language_info": {
   "codemirror_mode": {
    "name": "ipython",
    "version": 3
   },
   "file_extension": ".py",
   "mimetype": "text/x-python",
   "name": "python",
   "nbconvert_exporter": "python",
   "pygments_lexer": "ipython3",
   "version": "3.9.7"
  }
 },
 "nbformat": 4,
 "nbformat_minor": 5
}
